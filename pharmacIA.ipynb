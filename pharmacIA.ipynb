{
 "cells": [
  {
   "cell_type": "markdown",
   "metadata": {
    "colab_type": "text",
    "id": "SyuqjPyBxttr"
   },
   "source": [
    "### Considerações sobre o spacy\n",
    "\n",
    "Pode ser que ocorra um erro ao executar o treinamento. Se ele ocorrer, executar a linha abaixo para atualizar o spacy."
   ]
  },
  {
   "cell_type": "code",
   "execution_count": null,
   "metadata": {
    "colab": {
     "base_uri": "https://localhost:8080/",
     "height": 326
    },
    "colab_type": "code",
    "id": "MxbM0Hgd_Dmp",
    "outputId": "9754327d-21dc-4bae-fec5-de49096b8cb9"
   },
   "outputs": [],
   "source": [
    "!pip install --upgrade spacy"
   ]
  },
  {
   "cell_type": "markdown",
   "metadata": {
    "colab_type": "text",
    "id": "6jLoJz_cxPQj"
   },
   "source": [
    "## O código a seguir realiza o treinamento do modelo"
   ]
  },
  {
   "cell_type": "code",
   "execution_count": null,
   "metadata": {
    "colab": {
     "base_uri": "https://localhost:8080/",
     "height": 1000
    },
    "colab_type": "code",
    "id": "TVoP-XVZHGtL",
    "outputId": "71655b93-fd42-4290-b515-9da1fe0ad4e1"
   },
   "outputs": [],
   "source": [
    "from __future__ import unicode_literals, print_function\n",
    "from spacy.util import minibatch, compounding\n",
    "from spacy.gold import GoldParse\n",
    "from spacy.scorer import Scorer\n",
    "from pathlib import Path\n",
    "import random\n",
    "import spacy\n",
    "import json\n",
    "\n",
    "TRAIN_DATA = []\n",
    "\n",
    "#mapeamentos = open('/content/gdrive/My Drive/modelo_medipreco/mapeamentos_medipreco.json', 'r')\n",
    "mapeamentos = open('/content/gdrive/My Drive/modelo_cr/mapeamentos_cr.json', 'r')\n",
    "\n",
    "\n",
    "fileContent = json.loads(mapeamentos.readline())\n",
    "\n",
    "for line in fileContent:\n",
    "  entities = []\n",
    "  for ents in line[\"marcacoes\"]:\n",
    "      entities.append((ents[\"ini\"], ents[\"fim\"], ents[\"classe\"]))\n",
    "      print('entidade', entities)\n",
    "\n",
    "  item = (line['fa'], {\"entities\": entities})\n",
    "  print('item', item)\n",
    "  TRAIN_DATA.append(item)\n",
    "  \n",
    "nlp = spacy.blank(\"en\")  # create blank Language class\n",
    "print(\"Created blank 'en' model\")\n",
    "\n",
    "# create the built-in pipeline components and add them to the pipeline\n",
    "# nlp.create_pipe works for built-ins that are registered with spaCy\n",
    "if \"ner\" not in nlp.pipe_names:\n",
    "  ner = nlp.create_pipe(\"ner\")\n",
    "  nlp.add_pipe(ner, last=True)\n",
    "# otherwise, get it so we can add labels\n",
    "else:\n",
    "  ner = nlp.get_pipe(\"ner\")\n",
    "  \n",
    "for _, annotations in TRAIN_DATA:\n",
    "  for ent in annotations.get(\"entities\"):\n",
    "    ner.add_label(ent[2])\n",
    "\n",
    "# get names of other pipes to disable them during training\n",
    "other_pipes = [pipe for pipe in nlp.pipe_names if pipe != \"ner\"]\n",
    "\n",
    "with nlp.disable_pipes(*other_pipes):  # only train NER\n",
    "  # reset and initialize the weights randomly – but only if we're\n",
    "  # training a new model\n",
    "  nlp.begin_training()\n",
    "  \n",
    "  for itn in range(100):\n",
    "    random.shuffle(TRAIN_DATA)\n",
    "    losses = {}\n",
    "    # batch up the examples using spaCy's minibatch\n",
    "    batches = minibatch(TRAIN_DATA, size=compounding(4.0, 32.0, 1.001))\n",
    "    for batch in batches:\n",
    "      texts, annotations = zip(*batch)\n",
    "      nlp.update(\n",
    "        texts,  # batch of texts\n",
    "        annotations,  # batch of annotations\n",
    "        drop=0.5,  # dropout - make it harder to memorise data\n",
    "        losses=losses\n",
    "      )\n",
    "#     print(\"Losses\", losses)\n",
    "\n",
    "def evaluate(ner_model, examples):\n",
    "  scorer = Scorer()\n",
    "  for input_, annot in examples:\n",
    "    doc_gold_text = ner_model.make_doc(input_)\n",
    "    gold = GoldParse(doc_gold_text, annot)\n",
    "    pred_value = ner_model(input_)\n",
    "    scorer.score(pred_value, gold)\n",
    "  return scorer.scores\n",
    "\n",
    "  \n",
    "#output_dir = Path('apresentacoes_medipreco.md')\n",
    "output_dir = Path('apresentacoes_cr.md')\n",
    "\n",
    "if not output_dir.exists():\n",
    "  output_dir.mkdir()\n",
    "\n",
    "nlp.to_disk(output_dir)\n",
    "print(\"Saved model to\", output_dir)\n",
    "\n",
    "#!cp -r apresentacoes_medipreco.md '/content/gdrive/My Drive/modelo_medipreco/'\n",
    "!cp -r apresentacoes_cr.md '/content/gdrive/My Drive/modelo_cr/'\n",
    "\n",
    "ner_model = spacy.load(output_dir)\n",
    "\n",
    "results = evaluate(ner_model, TRAIN_DATA)\n",
    "\n",
    "results"
   ]
  },
  {
   "cell_type": "code",
   "execution_count": null,
   "metadata": {
    "colab": {},
    "colab_type": "code",
    "id": "G3v5a22sS2g2"
   },
   "outputs": [],
   "source": []
  },
  {
   "cell_type": "code",
   "execution_count": null,
   "metadata": {
    "colab": {
     "base_uri": "https://localhost:8080/",
     "height": 188
    },
    "colab_type": "code",
    "id": "2zmj6HVYOj6o",
    "outputId": "4f200fd8-3816-4f94-ca20-49c8f0ac06de"
   },
   "outputs": [],
   "source": [
    "import spacy\n",
    "\n",
    "from spacy import displacy\n",
    "\n",
    "#nlp = spacy.load('/content/gdrive/My Drive/modelo_medipreco/apresentacoes_medipreco.md')\n",
    "nlp = spacy.load('/content/gdrive/My Drive/modelo_cr/apresentacoes_cr.md')\n",
    "\n",
    "fa_1 = 'Ems Sigma Pharma Ltda Maleato de Enalapril + Hidroclorotiazida 10 MG + 25 MG COM CT BL AL PLAS OPC X 30'\n",
    "\n",
    "fa_2 = 'Accord Farmacêutica Ltda Bycal 50 MG COM REV CT BL AL PLAS TRANS X 30'\n",
    "\n",
    "fa_3 = 'Brainfarma Indústria Química e Farmacêutica S.A Quadrilon 0,50 MG/G + 1 MG/G + 10 MG/G + 10 MG/G POM DERM CT BG AL X 15 G'\n",
    "\n",
    "texto_1 = nlp(fa_1)\n",
    "\n",
    "texto_2 = nlp(fa_2)\n",
    "\n",
    "texto_3 = nlp(fa_3)\n",
    "\n",
    "displacy.render(texto_1, style='ent', jupyter=True)\n",
    "\n",
    "displacy.render(texto_2, style='ent', jupyter=True)\n",
    "\n",
    "displacy.render(texto_3, style='ent', jupyter=True)"
   ]
  },
  {
   "cell_type": "code",
   "execution_count": null,
   "metadata": {
    "colab": {
     "base_uri": "https://localhost:8080/",
     "height": 34
    },
    "colab_type": "code",
    "id": "unzL-1bgQcE9",
    "outputId": "54f061e3-f1b0-443e-e7e7-ae5f03ad382e"
   },
   "outputs": [],
   "source": [
    "import pandas as pd\n",
    "import numpy as np\n",
    "\n",
    "tags = ['FAB', 'MED', 'CC', 'TP', 'QTD']\n",
    "\n",
    "#apresentacoesDf = pd.read_csv('/content/gdrive/My Drive/modelo_medipreco/apresentacoes_medipreco.csv')\n",
    "apresentacoesDf = pd.read_csv('/content/gdrive/My Drive/modelo_cr/apresentacoes_cr.csv')\n",
    "\n",
    "list_apresentacoes = apresentacoesDf.apresentacao.tolist()\n",
    "\n",
    "list_processadas = []\n",
    "\n",
    "for apresentacao in list_apresentacoes:\n",
    "  fa_nlp = nlp(apresentacao)\n",
    "  \n",
    "  marks = []\n",
    "    \n",
    "  for tag in tags:\n",
    "    mark_content = [token.text for token in fa_nlp.ents if token.label_ == tag]\n",
    "    marks.append(mark_content)\n",
    "    \n",
    "  list_processadas.append((apresentacao, *marks))\n",
    "\n",
    "\n",
    "processadasDf = pd.DataFrame(list_processadas, \n",
    "                             columns=['apresentacao', \n",
    "                                      'fabricante', \n",
    "                                      'medicamento', \n",
    "                                      'concentracao', \n",
    "                                      'tipo', \n",
    "                                      'qtd'])\n",
    "\n",
    "#processadasDf.to_csv('apresentacoes_processadas_medipreco.csv', index=False)\n",
    "processadasDf.to_csv('apresentacoes_processadas_cr', index=False)\n",
    "\n",
    "#!cp apresentacoes_processadas_medipreco.csv '/content/gdrive/My Drive/modelo_medipreco/'\n",
    "!cp apresentacoes_processadas_medipreco.csv '/content/gdrive/My Drive/modelo_cr/'\n",
    "\n",
    "# for entity in texto_1.ents:\n",
    "#   print(entity.text, ' :: ' , entity.label_)"
   ]
  }
 ],
 "metadata": {
  "colab": {
   "collapsed_sections": [],
   "name": "apresentacoes_medipreco.ipynb",
   "provenance": [],
   "version": "0.3.2"
  },
  "kernelspec": {
   "display_name": "Python 3",
   "language": "python",
   "name": "python3"
  },
  "language_info": {
   "codemirror_mode": {
    "name": "ipython",
    "version": 3
   },
   "file_extension": ".py",
   "mimetype": "text/x-python",
   "name": "python",
   "nbconvert_exporter": "python",
   "pygments_lexer": "ipython3",
   "version": "3.6.7"
  }
 },
 "nbformat": 4,
 "nbformat_minor": 2
}
