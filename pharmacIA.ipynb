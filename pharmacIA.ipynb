{
 "cells": [
  {
   "cell_type": "markdown",
   "metadata": {
    "colab_type": "text",
    "id": "SyuqjPyBxttr"
   },
   "source": [
    "### Considerações sobre o spacy\n",
    "\n",
    "Pode ser que ocorra um erro ao executar o treinamento. Se ele ocorrer, executar a linha abaixo para atualizar o spacy."
   ]
  },
  {
   "cell_type": "code",
   "execution_count": null,
   "metadata": {
    "colab": {
     "base_uri": "https://localhost:8080/",
     "height": 326
    },
    "colab_type": "code",
    "id": "MxbM0Hgd_Dmp",
    "outputId": "6a83849c-9c30-4928-e062-0ed08babaacf"
   },
   "outputs": [],
   "source": [
    "#pip install --upgrade spacy"
   ]
  },
  {
   "cell_type": "markdown",
   "metadata": {
    "colab_type": "text",
    "id": "6jLoJz_cxPQj"
   },
   "source": [
    "## O código a seguir realiza o treinamento do modelo"
   ]
  },
  {
   "cell_type": "code",
   "execution_count": 1,
   "metadata": {
    "colab": {
     "base_uri": "https://localhost:8080/",
     "height": 1000
    },
    "colab_type": "code",
    "id": "TVoP-XVZHGtL",
    "outputId": "77a4512e-de66-4e76-b02d-b5deedde9b61"
   },
   "outputs": [
    {
     "ename": "ModuleNotFoundError",
     "evalue": "No module named 'spacy'",
     "output_type": "error",
     "traceback": [
      "\u001b[0;31m-----------------------------------------------------------------------\u001b[0m",
      "\u001b[0;31mModuleNotFoundError\u001b[0m                   Traceback (most recent call last)",
      "\u001b[0;32m<ipython-input-1-cbbf70e3eeea>\u001b[0m in \u001b[0;36m<module>\u001b[0;34m\u001b[0m\n\u001b[1;32m      1\u001b[0m \u001b[0;32mfrom\u001b[0m \u001b[0m__future__\u001b[0m \u001b[0;32mimport\u001b[0m \u001b[0municode_literals\u001b[0m\u001b[0;34m,\u001b[0m \u001b[0mprint_function\u001b[0m\u001b[0;34m\u001b[0m\u001b[0;34m\u001b[0m\u001b[0m\n\u001b[0;32m----> 2\u001b[0;31m \u001b[0;32mfrom\u001b[0m \u001b[0mspacy\u001b[0m\u001b[0;34m.\u001b[0m\u001b[0mutil\u001b[0m \u001b[0;32mimport\u001b[0m \u001b[0mminibatch\u001b[0m\u001b[0;34m,\u001b[0m \u001b[0mcompounding\u001b[0m\u001b[0;34m\u001b[0m\u001b[0;34m\u001b[0m\u001b[0m\n\u001b[0m\u001b[1;32m      3\u001b[0m \u001b[0;32mfrom\u001b[0m \u001b[0mspacy\u001b[0m\u001b[0;34m.\u001b[0m\u001b[0mgold\u001b[0m \u001b[0;32mimport\u001b[0m \u001b[0mGoldParse\u001b[0m\u001b[0;34m\u001b[0m\u001b[0;34m\u001b[0m\u001b[0m\n\u001b[1;32m      4\u001b[0m \u001b[0;32mfrom\u001b[0m \u001b[0mspacy\u001b[0m\u001b[0;34m.\u001b[0m\u001b[0mscorer\u001b[0m \u001b[0;32mimport\u001b[0m \u001b[0mScorer\u001b[0m\u001b[0;34m\u001b[0m\u001b[0;34m\u001b[0m\u001b[0m\n\u001b[1;32m      5\u001b[0m \u001b[0;32mfrom\u001b[0m \u001b[0mpathlib\u001b[0m \u001b[0;32mimport\u001b[0m \u001b[0mPath\u001b[0m\u001b[0;34m\u001b[0m\u001b[0;34m\u001b[0m\u001b[0m\n",
      "\u001b[0;31mModuleNotFoundError\u001b[0m: No module named 'spacy'"
     ]
    }
   ],
   "source": [
    "from __future__ import unicode_literals, print_function\n",
    "from spacy.util import minibatch, compounding\n",
    "from spacy.gold import GoldParse\n",
    "from spacy.scorer import Scorer\n",
    "from pathlib import Path\n",
    "import random\n",
    "import spacy\n",
    "import json\n",
    "\n",
    "TRAIN_DATA = []\n",
    "\n",
    "mapeamentos = open('mapeamentos_medicamentos.json','r')\n",
    "\n",
    "\n",
    "fileContent = json.loads(mapeamentos.readline())\n",
    "\n",
    "for line in fileContent:\n",
    "  entities = []\n",
    "  for ents in line[\"marcacoes\"]:\n",
    "      entities.append((ents[\"ini\"], ents[\"fim\"], ents[\"classe\"]))\n",
    "      print('entidade', entities)\n",
    "\n",
    "  item = (line['fa'], {\"entities\": entities})\n",
    "  print('item', item)\n",
    "  TRAIN_DATA.append(item)\n",
    "  \n",
    "nlp = spacy.blank(\"en\")  # create blank Language class\n",
    "print(\"Created blank 'en' model\")\n",
    "\n",
    "# create the built-in pipeline components and add them to the pipeline\n",
    "# nlp.create_pipe works for built-ins that are registered with spaCy\n",
    "if \"ner\" not in nlp.pipe_names:\n",
    "  ner = nlp.create_pipe(\"ner\")\n",
    "  nlp.add_pipe(ner, last=True)\n",
    "# otherwise, get it so we can add labels\n",
    "else:\n",
    "  ner = nlp.get_pipe(\"ner\")\n",
    "  \n",
    "for _, annotations in TRAIN_DATA:\n",
    "  for ent in annotations.get(\"entities\"):\n",
    "    ner.add_label(ent[2])\n",
    "\n",
    "# get names of other pipes to disable them during training\n",
    "other_pipes = [pipe for pipe in nlp.pipe_names if pipe != \"ner\"]\n",
    "\n",
    "with nlp.disable_pipes(*other_pipes):  # only train NER\n",
    "  # reset and initialize the weights randomly – but only if we're\n",
    "  # training a new model\n",
    "  nlp.begin_training()\n",
    "  \n",
    "  for itn in range(100):\n",
    "    random.shuffle(TRAIN_DATA)\n",
    "    losses = {}\n",
    "    # batch up the examples using spaCy's minibatch\n",
    "    batches = minibatch(TRAIN_DATA, size=compounding(4.0, 32.0, 1.001))\n",
    "    for batch in batches:\n",
    "      texts, annotations = zip(*batch)\n",
    "      nlp.update(\n",
    "        texts,  # batch of texts\n",
    "        annotations,  # batch of annotations\n",
    "        drop=0.5,  # dropout\n",
    "        losses=losses\n",
    "      )\n",
    "#     print(\"Losses\", losses)\n",
    "\n",
    "def evaluate(ner_model, examples):\n",
    "  scorer = Scorer()\n",
    "  for input_, annot in examples:\n",
    "    doc_gold_text = ner_model.make_doc(input_)\n",
    "    gold = GoldParse(doc_gold_text, annot)\n",
    "    pred_value = ner_model(input_)\n",
    "    scorer.score(pred_value, gold)\n",
    "  return scorer.scores\n",
    "\n",
    "  \n",
    "output_dir = Path('medicamentos_doc.md')\n",
    "\n",
    "if not output_dir.exists():\n",
    "  output_dir.mkdir()\n",
    "\n",
    "nlp.to_disk(output_dir)\n",
    "print(\"Saved model to\", output_dir)\n",
    "\n",
    "!cp -r apresentacoes_cr.md\n",
    "\n",
    "ner_model = spacy.load(output_dir)\n",
    "\n",
    "# results = evaluate(ner_model, TRAIN_DATA)\n",
    "\n",
    "# results"
   ]
  },
  {
   "cell_type": "code",
   "execution_count": null,
   "metadata": {
    "colab": {
     "base_uri": "https://localhost:8080/",
     "height": 192
    },
    "colab_type": "code",
    "id": "2zmj6HVYOj6o",
    "outputId": "b70a8088-a816-4bc1-df78-7a1332d82b41"
   },
   "outputs": [],
   "source": [
    "import spacy\n",
    "\n",
    "from spacy import displacy\n",
    "\n",
    "nlp = spacy.load('medicamentos_doc.md')\n",
    "\n",
    "fa_1 = 'Ems Sigma Pharma Ltda Maleato de Enalapril + Hidroclorotiazida 10 MG + 25 MG COM CT BL AL PLAS OPC X 30'\n",
    "\n",
    "fa_2 = 'Accord Farmacêutica Ltda Bycal 50 MG COM REV CT BL AL PLAS TRANS X 30'\n",
    "\n",
    "fa_3 = 'Brainfarma Indústria Química e Farmacêutica S.A Quadrilon 0,50 MG/G + 1 MG/G + 10 MG/G + 10 MG/G POM DERM CT BG AL X 15 G'\n",
    "\n",
    "texto_1 = nlp(fa_1)\n",
    "\n",
    "texto_2 = nlp(fa_2)\n",
    "\n",
    "texto_3 = nlp(fa_3)\n",
    "\n",
    "displacy.render(texto_1, style='ent', jupyter=True)\n",
    "\n",
    "displacy.render(texto_2, style='ent', jupyter=True)\n",
    "\n",
    "displacy.render(texto_3, style='ent', jupyter=True)"
   ]
  },
  {
   "cell_type": "code",
   "execution_count": null,
   "metadata": {
    "colab": {
     "base_uri": "https://localhost:8080/",
     "height": 51
    },
    "colab_type": "code",
    "id": "unzL-1bgQcE9",
    "outputId": "b0e02a74-b812-4300-811f-0b69655b7f41"
   },
   "outputs": [],
   "source": [
    "import pandas as pd\n",
    "import numpy as np\n",
    "\n",
    "tags = ['FAB', 'MED', 'CC', 'TP', 'QTD']\n",
    "\n",
    "apresentacoesDf = pd.read_csv('apresentacoes_medicamentos.csv')\n",
    "\n",
    "list_apresentacoes = apresentacoesDf.apresentacao.tolist()\n",
    "\n",
    "list_processadas = []\n",
    "\n",
    "for apresentacao in list_apresentacoes:\n",
    "  fa_nlp = nlp(apresentacao)\n",
    "  \n",
    "  marks = []\n",
    "    \n",
    "  for tag in tags:\n",
    "    mark_content = [token.text for token in fa_nlp.ents if token.label_ == tag]\n",
    "    marks.append(mark_content)\n",
    "    \n",
    "  list_processadas.append((apresentacao, *marks))\n",
    "\n",
    "\n",
    "processadasDf = pd.DataFrame(list_processadas, \n",
    "                             columns=['apresentacao', \n",
    "                                      'fabricante', \n",
    "                                      'medicamento', \n",
    "                                      'concentracao', \n",
    "                                      'tipo', \n",
    "                                      'qtd'])\n",
    "\n",
    "processadasDf.to_csv('apresentacoes_processadas', index=False)\n",
    "\n",
    "!cp apresentacoes_processadas.csv\n",
    "\n",
    "# for entity in texto_1.ents:\n",
    "#   print(entity.text, ' :: ' , entity.label_)"
   ]
  }
 ],
 "metadata": {
  "colab": {
   "collapsed_sections": [],
   "name": "apresentacoes_medipreco.ipynb",
   "provenance": [],
   "toc_visible": true,
   "version": "0.3.2"
  },
  "kernelspec": {
   "display_name": "Python 2",
   "language": "python",
   "name": "python2"
  },
  "language_info": {
   "codemirror_mode": {
    "name": "ipython",
    "version": 3
   },
   "file_extension": ".py",
   "mimetype": "text/x-python",
   "name": "python",
   "nbconvert_exporter": "python",
   "pygments_lexer": "ipython3",
   "version": "3.7.3"
  }
 },
 "nbformat": 4,
 "nbformat_minor": 1
}
